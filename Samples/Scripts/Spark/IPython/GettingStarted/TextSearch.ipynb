{
 "cells": [
  {
   "cell_type": "code",
   "execution_count": 1,
   "metadata": {
    "collapsed": false
   },
   "outputs": [
    {
     "name": "stdout",
     "output_type": "stream",
     "text": [
      "lya.colorado.edu - - [27/Aug/1995:12:03:10 -0400] \"GET / HTTP/1.0\" 200 7089\n",
      "lya.colorado.edu - - [27/Aug/1995:12:03:12 -0400] \"GET /images/ksclogo-medium.gif HTTP/1.0\" 200 5866\n",
      "lya.colorado.edu - - [27/Aug/1995:12:03:15 -0400] \"GET /images/NASA-logosmall.gif HTTP/1.0\" 200 786\n",
      "lya.colorado.edu - - [27/Aug/1995:12:03:16 -0400] \"GET /images/MOSAIC-logosmall.gif HTTP/1.0\" 200 363\n",
      "lya.colorado.edu - - [27/Aug/1995:12:03:17 -0400] \"GET /images/USA-logosmall.gif HTTP/1.0\" 200 234\n",
      "lya.colorado.edu - - [27/Aug/1995:12:03:18 -0400] \"GET /images/WORLD-logosmall.gif HTTP/1.0\" 200 669\n",
      "lya.colorado.edu - - [27/Aug/1995:12:04:03 -0400] \"GET /shuttle/countdown/ HTTP/1.0\" 200 4745\n",
      "lya.colorado.edu - - [27/Aug/1995:12:04:06 -0400] \"GET /shuttle/missions/sts-69/count69.gif HTTP/1.0\" 200 46053\n",
      "lya.colorado.edu - - [27/Aug/1995:12:04:11 -0400] \"GET /images/KSC-logosmall.gif HTTP/1.0\" 200 1204\n",
      "lya.colorado.edu - - [27/Aug/1995:12:04:39 -0400] \"GET /cgi-bin/imagemap/countdown69?293,287 HTTP/1.0\" 302 85\n",
      "lya.colorado.edu - - [27/Aug/1995:12:04:40 -0400] \"GET /htbin/cdt_main.pl HTTP/1.0\" 200 3714\n",
      "lya.colorado.edu - - [27/Aug/1995:12:04:42 -0400] \"GET /shuttle/countdown/images/countclock.gif HTTP/1.0\" 200 13994\n",
      "lya.colorado.edu - - [27/Aug/1995:12:05:00 -0400] \"GET /shuttle/countdown/countdown.html HTTP/1.0\" 200 4745\n",
      "lya.colorado.edu - - [27/Aug/1995:12:05:07 -0400] \"GET /cgi-bin/imagemap/countdown69?59,165 HTTP/1.0\" 302 111\n",
      "lya.colorado.edu - - [27/Aug/1995:12:05:08 -0400] \"GET /shuttle/missions/sts-69/mission-sts-69.html HTTP/1.0\" 200 12560\n",
      "lya.colorado.edu - - [27/Aug/1995:12:05:10 -0400] \"GET /shuttle/missions/sts-69/sts-69-patch-small.gif HTTP/1.0\" 200 8083\n",
      "lya.colorado.edu - - [27/Aug/1995:12:05:14 -0400] \"GET /images/launch-logo.gif HTTP/1.0\" 200 1713\n",
      "lya.colorado.edu - - [27/Aug/1995:12:05:15 -0400] \"GET /history/apollo/images/apollo-logo1.gif HTTP/1.0\" 200 1173\n",
      "lya.colorado.edu - - [28/Aug/1995:11:11:37 -0400] \"GET /shuttle/missions/missions.html HTTP/1.0\" 200 8677\n",
      "lya.colorado.edu - - [28/Aug/1995:11:11:40 -0400] \"GET /images/launchmedium.gif HTTP/1.0\" 200 11853\n",
      "lya.colorado.edu - - [28/Aug/1995:11:12:12 -0400] \"GET /shuttle/missions/sts-41/mission-sts-41.html HTTP/1.0\" 200 5456\n",
      "lya.colorado.edu - - [28/Aug/1995:11:12:17 -0400] \"GET /shuttle/missions/sts-41/sts-41-patch-small.gif HTTP/1.0\" 200 12238\n"
     ]
    }
   ],
   "source": [
    "from pyspark import SparkContext\n",
    "\n",
    "# Read the input file \n",
    "text_file = sc.textFile(\"/Data/NASA_Access_Log\")\n",
    "\n",
    "# Filters the input lines that contains the Internet Address \"lya.colorado.edu\"\n",
    "errors = text_file.filter(lambda line: \"lya.colorado.edu\" in line)\n",
    "\n",
    "# Saves the filtered lines in text file\n",
    "errors.saveAsTextFile(\"/Data/Output/TextSearchPython\")\n",
    "for error in errors.collect():\n",
    "    print(error)"
   ]
  },
  {
   "cell_type": "code",
   "execution_count": null,
   "metadata": {
    "collapsed": true
   },
   "outputs": [],
   "source": []
  }
 ],
 "metadata": {
  "kernelspec": {
   "display_name": "Python 2",
   "language": "python",
   "name": "python2"
  },
  "language_info": {
   "codemirror_mode": {
    "name": "ipython",
    "version": 2
   },
   "file_extension": ".py",
   "mimetype": "text/x-python",
   "name": "python",
   "nbconvert_exporter": "python",
   "pygments_lexer": "ipython2",
   "version": "2.7.10"
  }
 },
 "nbformat": 4,
 "nbformat_minor": 0
}
