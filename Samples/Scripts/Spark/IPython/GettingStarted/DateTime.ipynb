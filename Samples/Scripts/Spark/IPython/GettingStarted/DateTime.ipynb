{
 "cells": [
  {
   "cell_type": "code",
   "execution_count": 2,
   "metadata": {
    "collapsed": false
   },
   "outputs": [
    {
     "name": "stdout",
     "output_type": "stream",
     "text": [
      "00-1 Hours :  1377\n",
      "01-2 Hours :  1105\n",
      "02-3 Hours :  1094\n",
      "03-4 Hours :  1069\n",
      "04-5 Hours :  764\n",
      "05-6 Hours :  872\n",
      "06-7 Hours :  1247\n",
      "07-8 Hours :  1676\n",
      "08-9 Hours :  2169\n",
      "09-10 Hours :  2950\n",
      "10-11 Hours :  2988\n",
      "11-12 Hours :  3400\n",
      "12-13 Hours :  5201\n",
      "13-14 Hours :  3310\n",
      "14-15 Hours :  1393\n",
      "15-16 Hours :  1472\n",
      "16-17 Hours :  1680\n",
      "17-18 Hours :  1580\n",
      "18-19 Hours :  1577\n",
      "19-20 Hours :  1668\n",
      "20-21 Hours :  2285\n",
      "21-22 Hours :  2098\n",
      "22-23 Hours :  1946\n",
      "23-24 Hours :  1680\n"
     ]
    }
   ],
   "source": [
    "from pyspark import SparkContext\n",
    "import re \n",
    "\n",
    "# Read the input file\n",
    "lines = sc.textFile(\"/Data/NASA_Access_Log\")\n",
    "\n",
    "# Method to split the input line and returns hour value\n",
    "def getKey(line):\n",
    "\t# Replace '- ' with empty value, so input lines are separated only by white space\n",
    "\tstr = line.replace(\"- \",\" \")\n",
    "\t# Replace multiple spaces by single space\n",
    "\tstr = ' '.join(str.split())\n",
    "\t# Split the input line by white space unless text enclosed with in double quotes and '[]' and stores the each field as string array\n",
    "\tstr = re.findall('\\[[^\\]]*\\]|\\\"[^\\\"]*\\\"|\\S+', str)\n",
    "\t# Get the timestamp value and stores the hour value\n",
    "\tstr = str[1].replace(\"[\", \"\").split(\":\")[1]\n",
    "\treturn str\n",
    "\n",
    "# Creates the Key-Value pair with the hour value as the key and the integer 1 as the value\n",
    "pairs = lines.map(lambda s: (getKey(s) , 1))\n",
    "# Creates the Key-Value pair with the hour value as the key and the corresponding count as the value\n",
    "counts = pairs.reduceByKey(lambda a, b: a + b)\n",
    "# Creates the sorted Key-Value pair\n",
    "sortedValue = counts.sortByKey().map(lambda x: \"{}-{} Hours :  {}\".format(x[0],int(x[0])+1,x[1]))\n",
    "# Saves the created Key-Value pair in text file\n",
    "sortedValue.saveAsTextFile(\"/Data/Output/DateTimePython\")\n",
    "\n",
    "for value in sortedValue.collect():\n",
    "    print(value)\n",
    "\n"
   ]
  },
  {
   "cell_type": "code",
   "execution_count": null,
   "metadata": {
    "collapsed": true
   },
   "outputs": [],
   "source": []
  }
 ],
 "metadata": {
  "kernelspec": {
   "display_name": "Python 2",
   "language": "python",
   "name": "python2"
  },
  "language_info": {
   "codemirror_mode": {
    "name": "ipython",
    "version": 2
   },
   "file_extension": ".py",
   "mimetype": "text/x-python",
   "name": "python",
   "nbconvert_exporter": "python",
   "pygments_lexer": "ipython2",
   "version": "2.7.10"
  }
 },
 "nbformat": 4,
 "nbformat_minor": 0
}
