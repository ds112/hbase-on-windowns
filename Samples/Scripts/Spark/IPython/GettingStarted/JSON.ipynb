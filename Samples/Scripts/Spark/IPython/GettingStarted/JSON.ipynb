{
 "cells": [
  {
   "cell_type": "code",
   "execution_count": 1,
   "metadata": {
    "collapsed": false
   },
   "outputs": [
    {
     "name": "stdout",
     "output_type": "stream",
     "text": [
      "root\n",
      " |-- age: long (nullable = true)\n",
      " |-- name: string (nullable = true)\n",
      "\n",
      "Name: Justin\n"
     ]
    }
   ],
   "source": [
    "from pyspark import SparkContext\n",
    "from pyspark.sql import SQLContext\n",
    "\n",
    "sqlContext = SQLContext(sc)\n",
    "\n",
    "#A JSON dataset is pointed to by path.\n",
    "#The path can be either a single text file or a directory storing text files.\n",
    "\n",
    "path = \"/Data/Spark/Resources/People.json\"\n",
    "people = sqlContext.read.json(path)\n",
    "\n",
    "#The inferred schema can be visualized using the printSchema() method.\n",
    "people.printSchema()\n",
    "\n",
    "#root  (Structure of people)\n",
    "# |-- age: integer (nullable = true)\n",
    "# |-- name: string (nullable = true)\n",
    "\n",
    "#Register this DataFrame as a table.\n",
    "people.registerTempTable(\"people\")\n",
    "\n",
    "teenagers = sqlContext.sql(\"SELECT name FROM people WHERE age >= 13 AND age <= 19\")\n",
    "teenNames = teenagers.map(lambda p: \"Name: \" + p.name)\n",
    "for teenName in teenNames.collect():\n",
    "\tprint (teenName)\n",
    "\n",
    "anotherPeopleRDD = sc.parallelize(['{\"name\":\"Yin\",\"address\":{\"city\":\"Columbus\",\"state\":\"Ohio\"}}'])\n",
    "anotherPeople = sqlContext.jsonRDD(anotherPeopleRDD)"
   ]
  },
  {
   "cell_type": "code",
   "execution_count": null,
   "metadata": {
    "collapsed": true
   },
   "outputs": [],
   "source": []
  }
 ],
 "metadata": {
  "kernelspec": {
   "display_name": "Python 2",
   "language": "python",
   "name": "python2"
  },
  "language_info": {
   "codemirror_mode": {
    "name": "ipython",
    "version": 2
   },
   "file_extension": ".py",
   "mimetype": "text/x-python",
   "name": "python",
   "nbconvert_exporter": "python",
   "pygments_lexer": "ipython2",
   "version": "2.7.10"
  }
 },
 "nbformat": 4,
 "nbformat_minor": 0
}
