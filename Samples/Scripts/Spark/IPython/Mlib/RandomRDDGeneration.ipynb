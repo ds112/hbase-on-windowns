{
 "cells": [
  {
   "cell_type": "code",
   "execution_count": 1,
   "metadata": {
    "collapsed": false
   },
   "outputs": [
    {
     "name": "stdout",
     "output_type": "stream",
     "text": [
      "Generated RDD of 10000 examples sampled from the standard normal distribution\n",
      "  First 5 samples:\n",
      "    -0.545833251\n",
      "    1.07689056928\n",
      "    -0.195087197846\n",
      "    0.623961503867\n",
      "    0.813795917829\n",
      "Generated RDD of 10000 examples of length-2 vectors.\n",
      "  First 5 samples:\n",
      "    [-1.21593255  0.980266  ]\n",
      "    [-0.42352725 -1.65496058]\n",
      "    [ 0.45552355  0.72957659]\n",
      "    [-0.43812411 -1.37486084]\n",
      "    [ 0.40812123  0.03148432]\n"
     ]
    },
    {
     "data": {
      "image/png": "[encoded data removed]",
      "text/plain": [
       "<matplotlib.figure.Figure at 0xb353e10>"
      ]
     },
     "metadata": {},
     "output_type": "display_data"
    },
    {
     "data": {
      "image/png": "[encoded data removed]",
      "text/plain": [
       "<matplotlib.figure.Figure at 0xb4bee80>"
      ]
     },
     "metadata": {},
     "output_type": "display_data"
    }
   ],
   "source": [
    "%matplotlib inline\n",
    "\n",
    "import matplotlib\n",
    "from matplotlib import pyplot as plt\n",
    "from __future__ import print_function\n",
    "\n",
    "\n",
    "import sys\n",
    "\n",
    "\n",
    "import pandas as pd\n",
    "import numpy as np\n",
    "from pyspark import SparkContext\n",
    "\n",
    "from pyspark.mllib.random import RandomRDDs\n",
    "\n",
    "\n",
    "\n",
    "\n",
    "# number of examples to generate\n",
    "    \n",
    "numExamples = 10000  \n",
    "\t\n",
    "# fraction of data to sample\n",
    "    \n",
    "fraction = 0.1  \n",
    "\n",
    "    \n",
    "# Example: RandomRDDs.normalRDD\n",
    "    \n",
    "normalRDD = RandomRDDs.normalRDD(sc, numExamples)\n",
    "    \n",
    "# Creates data frame for visualization\n",
    "dataFrame = pd.DataFrame(columns=('Samples', 'Values'))\n",
    "print('Generated RDD of %d examples sampled from the standard normal distribution'% normalRDD.count())\n",
    "    \n",
    "print('  First 5 samples:')\n",
    "    \n",
    "sample = normalRDD.take(5)\n",
    "for i in range(len(sample)): \n",
    "\tdataFrame.loc[i] = [i,sample[i]]    \n",
    "\tprint('    ' + str(sample[i]))\n",
    "\n",
    "# 'Bar' plot is used here to visualize the normal RDD\n",
    "dataFrame.plot('Samples', 'Values',color='blue', kind='bar', title = 'Normal RDD')\n",
    "\n",
    "# Example: RandomRDDs.normalVectorRDD\n",
    "    \n",
    "normalVectorRDD = RandomRDDs.normalVectorRDD(sc, numRows=numExamples, numCols=2)\n",
    "    \n",
    "print('Generated RDD of %d examples of length-2 vectors.' % normalVectorRDD.count())\n",
    "    \n",
    "print('  First 5 samples:')\n",
    "    \n",
    "sampleVectorRDD = normalVectorRDD.take(5)\n",
    "for i in range(len(sampleVectorRDD)):\n",
    "\tprint('    ' + str(sampleVectorRDD[i]))\n",
    " \n",
    "\n",
    "# Creates data frame for vector RDD\n",
    "dataFrame = pd.DataFrame(sampleVectorRDD, columns = ('samples_vector1', 'samples_vector2'))\n",
    "fig, ax = plt.subplots()\n",
    "index = np.arange(len(dataFrame.index))\n",
    "bar_width = 0.35\n",
    "\n",
    "# Creates two bar plots (as subplots) to visualize the vector RDD\n",
    "bar_Vector1 = plt.bar(index, dataFrame['samples_vector1'], bar_width , color='blue', label='Values_Vector_1')\n",
    "bar_Vector2 = plt.bar(index + bar_width, dataFrame['samples_vector2'], 0.35 , color='red',  label='Values_Vector_2')\n",
    "\n",
    "plt.xlabel('Samples')\n",
    "plt.ylabel('Values')\n",
    "plt.title('Normal Vector RDD')\n",
    "plt.xticks(index + bar_width, ('1', '2', '3', '4', '5'))\n",
    "plt.legend(loc='lower right')\n",
    "\n",
    "plt.tight_layout()\n",
    "plt.show()\n",
    "\n",
    "\n"
   ]
  },
  {
   "cell_type": "code",
   "execution_count": null,
   "metadata": {
    "collapsed": true
   },
   "outputs": [],
   "source": []
  }
 ],
 "metadata": {
  "kernelspec": {
   "display_name": "Python 2",
   "language": "python",
   "name": "python2"
  },
  "language_info": {
   "codemirror_mode": {
    "name": "ipython",
    "version": 2
   },
   "file_extension": ".py",
   "mimetype": "text/x-python",
   "name": "python",
   "nbconvert_exporter": "python",
   "pygments_lexer": "ipython2",
   "version": "2.7.10"
  }
 },
 "nbformat": 4,
 "nbformat_minor": 0
}
