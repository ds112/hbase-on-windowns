{
 "cells": [
  {
   "cell_type": "code",
   "execution_count": 2,
   "metadata": {
    "collapsed": false
   },
   "outputs": [
    {
     "name": "stdout",
     "output_type": "stream",
     "text": [
      "Final weights: [0.524344399994,0.535422147861,0.511118553685,0.490483087591,0.516417169831,0.539879160998,0.53180573555,0.519989331301,0.534036230449,0.527097281011]\n",
      "Final intercept: 0.0\n"
     ]
    }
   ],
   "source": [
    "from __future__ import print_function\n",
    "\n",
    "\n",
    "import sys\n",
    "\n",
    "\n",
    "from pyspark import SparkContext\n",
    "\n",
    "from pyspark.mllib.regression import LabeledPoint\n",
    "\n",
    "from pyspark.mllib.classification import LogisticRegressionWithSGD\n",
    "\n",
    "\n",
    "\n",
    "\n",
    "def parsePoint(line):\n",
    "\n",
    "\tvalues = [float(s) for s in line.split(' ')]\n",
    "\t# Convert -1 labels to 0 for MLlib\n",
    "    \n",
    "\tif values[0] == -1:\n",
    "\t\tvalues[0] = 0\n",
    "\n",
    "\treturn LabeledPoint(values[0], values[1:])\n",
    "\n",
    "\n",
    "points = sc.textFile(\"/Data/Spark/MLLib/LR_Data.txt\").map(parsePoint)\n",
    "\n",
    "iterations = 10\n",
    "\n",
    "model = LogisticRegressionWithSGD.train(points, iterations)\n",
    "\n",
    "print(\"Final weights: \" + str(model.weights))\n",
    "\n",
    "print(\"Final intercept: \" + str(model.intercept))\n",
    "\n"
   ]
  },
  {
   "cell_type": "code",
   "execution_count": null,
   "metadata": {
    "collapsed": true
   },
   "outputs": [],
   "source": []
  }
 ],
 "metadata": {
  "kernelspec": {
   "display_name": "Python 2",
   "language": "python",
   "name": "python2"
  },
  "language_info": {
   "codemirror_mode": {
    "name": "ipython",
    "version": 2
   },
   "file_extension": ".py",
   "mimetype": "text/x-python",
   "name": "python",
   "nbconvert_exporter": "python",
   "pygments_lexer": "ipython2",
   "version": "2.7.10"
  }
 },
 "nbformat": 4,
 "nbformat_minor": 0
}
