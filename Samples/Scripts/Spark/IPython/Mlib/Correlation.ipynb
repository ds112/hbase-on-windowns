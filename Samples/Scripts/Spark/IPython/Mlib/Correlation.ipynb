{
 "cells": [
  {
   "cell_type": "code",
   "execution_count": 1,
   "metadata": {
    "collapsed": false
   },
   "outputs": [
    {
     "name": "stdout",
     "output_type": "stream",
     "text":
      "\n",
      "Summary of data file: /Data/Spark/MLLib/Sample_Linear_Regression_Data.txt\n",
      "501 data points\n",
      "\n",
      "Correlation (pearson) between label and each feature\n",
      "Feature\tCorrelation\n",
      "0\t0.00595645\n",
      "1\t0.0332056\n",
      "2\t-0.0406646\n",
      "3\t0.123178\n",
      "4\t0.0240118\n",
      "5\t0.0648617\n",
      "6\t-0.0223995\n",
      "7\t-0.0279813\n",
      "8\t-0.0359889\n",
      "9\t0.0345207\n",
      "\n"
     ]
    },
    {
     "data": {
      "text/plain": [
       "<matplotlib.axes._subplots.AxesSubplot at 0x17ca7a90>"
      ]
     },
     "execution_count": 1,
     "metadata": {},
     "output_type": "execute_result"
    },
    {
     "data": {
      "image/png": "iVBORw0KGgoAAAANSUhEUgAAAX0AAAEeCAYAAABmGcWlAAAABHNCSVQICAgIfAhkiAAAAAlwSFlz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\nRU5ErkJggg==\n",
      "text/plain": [
       "<matplotlib.figure.Figure at 0x17ca7e80>"
      ]
     },
     "metadata": {},
     "output_type": "display_data"
    }
   ],
   "source": [
    "%matplotlib inline\n",
    "\n",
    "import matplotlib\n",
    "\n",
    "from matplotlib import pyplot as plt\n",
    "\n",
    "from __future__ import print_function\n",
    "\n",
    "import sys\n",
    "\n",
    "from pyspark import SparkContext\n",
    "\n",
    "from pyspark.mllib.regression import LabeledPoint\n",
    "\n",
    "from pyspark.mllib.stat import Statistics\n",
    "\n",
    "from pyspark.mllib.util import MLUtils\n",
    "\n",
    "import pandas as pd\n",
    "\n",
    "from ggplot import *\n",
    "\n",
    "\n",
    "filepath = '/Data/Spark/MLLib/Sample_Linear_Regression_Data.txt'\n",
    "\n",
    "corrType = 'pearson'\n",
    "\n",
    "points = MLUtils.loadLibSVMFile(sc, filepath).map(lambda lp: LabeledPoint(lp.label, lp.features.toArray()))\n",
    "\n",
    "print()\n",
    "\n",
    "print('Summary of data file: ' + filepath)\n",
    "\n",
    "print('%d data points' % points.count())\n",
    "\n",
    "# Statistics (correlations)\n",
    "\n",
    "print()\n",
    "\n",
    "print('Correlation (%s) between label and each feature' % corrType)\n",
    "\n",
    "print('Feature\\tCorrelation')\n",
    "\n",
    "numFeatures = points.take(1)[0].features.size\n",
    "\n",
    "labelRDD = points.map(lambda lp: lp.label)\n",
    "\n",
    "# Creates data frame for visualization\n",
    "dataFrame = pd.DataFrame(columns=('feature', 'correlation'))\n",
    "\n",
    "for i in range(numFeatures):\n",
    "    \n",
    "\tfeatureRDD = points.map(lambda lp: lp.features[i])\n",
    "    \n",
    "\tcorr = Statistics.corr(labelRDD, featureRDD, corrType)\n",
    "\t\n",
    "\t#Add values to data frame\n",
    "\tdataFrame.loc[i] = [i,corr]\n",
    "    \n",
    "\tprint('%d\\t%g' % (i, corr))\n",
    "\n",
    "\n",
    "print()\n",
    "\n",
    "# 'Bar' plot is used here for visualization\n",
    "dataFrame.plot('feature', 'correlation',color='black',kind='bar', title = 'Feature Correlation')\n",
    "\n",
    "\n"
   ]
  },
  {
   "cell_type": "code",
   "execution_count": null,
   "metadata": {
    "collapsed": true
   },
   "outputs": [],
   "source": []
  }
 ],
 "metadata": {
  "kernelspec": {
   "display_name": "Python 2",
   "language": "python",
   "name": "python2"
  },
  "language_info": {
   "codemirror_mode": {
    "name": "ipython",
    "version": 2
   },
   "file_extension": ".py",
   "mimetype": "text/x-python",
   "name": "python",
   "nbconvert_exporter": "python",
   "pygments_lexer": "ipython2",
   "version": "2.7.10"
  }
 },
 "nbformat": 4,
 "nbformat_minor": 0
}
