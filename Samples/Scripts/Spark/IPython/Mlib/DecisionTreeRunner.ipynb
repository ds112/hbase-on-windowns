{
 "cells": [
  {
   "cell_type": "code",
   "execution_count": 1,
   "metadata": {
    "collapsed": false
   },
   "outputs": [
    {
     "name": "stdout",
     "output_type": "stream",
     "text": [
      "numClasses = 2\n",
      "Per-class example fractions, counts:\n",
      "Class\tFrac\tCount\n",
      "0\t0.43\t43\n",
      "1\t0.57\t57\n",
      "Trained DecisionTree for classification:\n",
      "  Model numNodes: 5\n",
      "  Model depth: 2\n",
      "  Training accuracy: 1\n",
      "DecisionTreeModel classifier of depth 2 with 5 nodes\n",
      "  If (feature 434 <= 0.0)\n",
      "   If (feature 100 <= 165.0)\n",
      "    Predict: 0.0\n",
      "   Else (feature 100 > 165.0)\n",
      "    Predict: 1.0\n",
      "  Else (feature 434 > 0.0)\n",
      "   Predict: 1.0\n",
      "\n"
     ]
    }
   ],
   "source": [
    "from __future__ import print_function\n",
    "import numpy\n",
    "import os\n",
    "import sys\n",
    "from operator import add\n",
    "from pyspark import SparkContext\n",
    "from pyspark.mllib.regression import LabeledPoint\n",
    "from pyspark.mllib.tree import DecisionTree\n",
    "from pyspark.mllib.util import MLUtils\n",
    "\n",
    "def getAccuracy(dtModel, data):\n",
    "\tseqOp = (lambda acc, x: acc + (x[0] == x[1]))\n",
    "\tpredictions = dtModel.predict(data.map(lambda x: x.features))\n",
    "\ttruth = data.map(lambda p: p.label)\n",
    "\ttrainCorrect = predictions.zip(truth).aggregate(0, seqOp, add)\n",
    "\tif data.count() == 0:\n",
    "\t\treturn 0\n",
    "\treturn trainCorrect / (0.0 + data.count())\n",
    "\n",
    "def getMSE(dtModel, data):\n",
    "\tseqOp = (lambda acc, x: acc + numpy.square(x[0] - x[1]))\n",
    "\tpredictions = dtModel.predict(data.map(lambda x: x.features))\n",
    "\ttruth = data.map(lambda p: p.label)\n",
    "\ttrainMSE = predictions.zip(truth).aggregate(0, seqOp, add)\n",
    "\tif data.count() == 0:\n",
    "\t\treturn 0\n",
    "\treturn trainMSE / (0.0 + data.count())\n",
    "\n",
    "def reindexClassLabels(data):    \n",
    "\t# classCounts: class --> # examples in class    \n",
    "\tclassCounts = data.map(lambda x: x.label).countByValue()\n",
    "\tnumExamples = sum(classCounts.values())\n",
    "\tsortedClasses = sorted(classCounts.keys())\n",
    "\tnumClasses = len(classCounts)\n",
    "\t# origToNewLabels: class --> index in 0,...,numClasses-1\n",
    "\tif (numClasses < 2):\n",
    "\t\tprint(\"Dataset for classification should have at least 2 classes.The given dataset had only %d classes.\" % numClasses, file=sys.stderr)\n",
    "\t\texit(1)\n",
    "\torigToNewLabels = dict([(sortedClasses[i], i) for i in range(0, numClasses)])\n",
    "\tprint(\"numClasses = %d\" % numClasses)\n",
    "\tprint(\"Per-class example fractions, counts:\")\n",
    "\tprint(\"Class\\tFrac\\tCount\")\n",
    "\tfor c in sortedClasses:\n",
    "\t\tfrac = classCounts[c] / (numExamples + 0.0)\n",
    "\t\tprint(\"%g\\t%g\\t%d\" % (c, frac, classCounts[c]))\n",
    "\tif (sortedClasses[0] == 0 and sortedClasses[-1] == numClasses - 1):\n",
    "\t\treturn (data, origToNewLabels)\n",
    "\telse:\n",
    "\t\treindexedData = data.map(lambda x: LabeledPoint(origToNewLabels[x.label], x.features))\n",
    "\t\treturn (reindexedData, origToNewLabels)\n",
    "\n",
    "# Load data.\n",
    "dataPath = '/Data/Spark/MLLib/Sample_LibSVM_Data.txt' \n",
    "points = MLUtils.loadLibSVMFile(sc, dataPath)    \n",
    "\n",
    "# Re-index class labels if needed.    \n",
    "(reindexedData, origToNewLabels) = reindexClassLabels(points)    \n",
    "numClasses = len(origToNewLabels)    \n",
    "\n",
    "# Train a classifier.    \n",
    "categoricalFeaturesInfo = {}  # no categorical features    \n",
    "model = DecisionTree.trainClassifier(reindexedData, numClasses=numClasses,categoricalFeaturesInfo=categoricalFeaturesInfo)    \n",
    "\n",
    "# Print learned tree and stats.    \n",
    "print(\"Trained DecisionTree for classification:\")    \n",
    "print(\"  Model numNodes: %d\" % model.numNodes())    \n",
    "print(\"  Model depth: %d\" % model.depth())    \n",
    "print(\"  Training accuracy: %g\" % getAccuracy(model, reindexedData))    \n",
    "if model.numNodes() < 20:\n",
    "\tprint(model.toDebugString())    \n",
    "else:\n",
    "\tprint(model)"
   ]
  },
  {
   "cell_type": "code",
   "execution_count": null,
   "metadata": {
    "collapsed": true
   },
   "outputs": [],
   "source": []
  }
 ],
 "metadata": {
  "kernelspec": {
   "display_name": "Python 2",
   "language": "python",
   "name": "python2"
  },
  "language_info": {
   "codemirror_mode": {
    "name": "ipython",
    "version": 2
   },
   "file_extension": ".py",
   "mimetype": "text/x-python",
   "name": "python",
   "nbconvert_exporter": "python",
   "pygments_lexer": "ipython2",
   "version": "2.7.10"
  }
 },
 "nbformat": 4,
 "nbformat_minor": 0
}
