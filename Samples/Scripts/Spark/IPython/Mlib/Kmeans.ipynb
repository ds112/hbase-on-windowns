{
 "cells": [
  {
   "cell_type": "code",
   "execution_count": 1,
   "metadata": {
    "collapsed": false
   },
   "outputs": [
    {
     "name": "stdout",
     "output_type": "stream",
     "text": [
      "Final centers: [array([ 9.1,  9.1,  9.1]), array([ 0.1,  0.1,  0.1])]\n",
      "Total Cost: 0.12\n"
     ]
    },
    {
     "data": {
      "text/plain": [
       "<matplotlib.legend.Legend at 0xb8246d8>"
      ]
     },
     "execution_count": 1,
     "metadata": {},
     "output_type": "execute_result"
    },
    {
     "data": {
      "text/plain": [
       "<matplotlib.figure.Figure at 0xa245438>"
      ]
     },
     "metadata": {},
     "output_type": "display_data"
    },
    {
     "data": {
      "image/png": "[encoded data removed]",
      "text/plain": [
       "<matplotlib.figure.Figure at 0xb625c50>"
      ]
     },
     "metadata": {},
     "output_type": "display_data"
    }
   ],
   "source": [
    "%matplotlib inline\n",
    "\n",
    "import matplotlib\n",
    "from matplotlib import pyplot as plt\n",
    "from __future__ import print_function\n",
    "\n",
    "import sys\n",
    "import numpy as np\n",
    "import pandas\n",
    "import decimal\n",
    "from pyspark.context import SparkContext\n",
    "\n",
    "from pyspark.mllib.clustering import KMeans\n",
    "from pyspark.sql import SQLContext\n",
    "from pyspark.sql.types import *\n",
    "\n",
    "\n",
    "def parseVector(line):    \n",
    "\treturn np.array([float(x) for x in line.split(' ')])\n",
    "\n",
    "\n",
    "def constructDataFrame(lines):\n",
    "\tparts = lines.map(lambda l: l.split(' '))\n",
    "\tdiamonds = parts.map(lambda p: (float(p[0]),float(p[1]),float(p[2])))\n",
    "\tschema = StructType([ StructField(\"column1\", FloatType(), True),StructField(\"column2\", FloatType(), True),StructField(\"column3\", FloatType(), True)])\n",
    "\tdataFrame = sqlContext.createDataFrame(diamonds, schema)\n",
    "\tinputDataFrame = pandas.DataFrame(dataFrame.toPandas(), columns = ('index','column1','column2','column3','result'))\n",
    "\tinputDataFrame['index'] = inputDataFrame.index\n",
    "\treturn inputDataFrame\n",
    "\n",
    "lines = sc.textFile(\"/Data/Spark/MLLib/KMeans_Data.txt\")\n",
    "    \n",
    "data = lines.map(parseVector)\n",
    "    \n",
    "k = 2\n",
    "    \n",
    "model = KMeans.train(data, k)\n",
    "    \n",
    "print(\"Final centers: \" + str(model.clusterCenters))\n",
    "    \n",
    "print(\"Total Cost: \" + str(model.computeCost(data)))\n",
    "\n",
    "\n",
    "clusterCenters = zip(model.clusterCenters[0], model.clusterCenters[1])\n",
    "resultDataFrame = pandas.DataFrame(clusterCenters , dtype =float).transpose()\n",
    "resultDataFrame.columns = ['column1','column2','column3']\n",
    "\n",
    "# Since, all column's data remains same in both result and input dataframe, we considered only one column ('column1') for visualizing plot.\n",
    "\n",
    "inputDataFrame = constructDataFrame(lines)\n",
    "inputList = inputDataFrame['column1'].values.tolist()\n",
    "resultList = resultDataFrame['column1'].values.tolist()\n",
    "\n",
    "for i in range(len(inputList)): \n",
    "    for j in range(len(resultList)):\n",
    "        if(round(decimal.Decimal(resultList[j]),1) == round(decimal.Decimal(inputList[i]),1)):   \n",
    "            inputDataFrame.loc[i,'result'] = round(decimal.Decimal(resultList[j]),1)\n",
    "\n",
    "# 'Scatter' plot is used here to visualize KMeans Centriod points \n",
    "\n",
    "plt.figure()\n",
    "clusters = inputDataFrame.plot(kind='scatter', x = 'index', y='column1', color='Red', label='All points')\n",
    "inputDataFrame.plot(kind='scatter', x='index', y='result', color='Blue', label='KMeans Centroid', ax=clusters)\n",
    "plt.title('KMeans Centriod')\n",
    "plt.legend(loc='upper left')"
   ]
  },
  {
   "cell_type": "code",
   "execution_count": null,
   "metadata": {
    "collapsed": true
   },
   "outputs": [],
   "source": []
  }
 ],
 "metadata": {
  "kernelspec": {
   "display_name": "Python 2",
   "language": "python",
   "name": "python2"
  },
  "language_info": {
   "codemirror_mode": {
    "name": "ipython",
    "version": 2
   },
   "file_extension": ".py",
   "mimetype": "text/x-python",
   "name": "python",
   "nbconvert_exporter": "python",
   "pygments_lexer": "ipython2",
   "version": "2.7.10"
  }
 },
 "nbformat": 4,
 "nbformat_minor": 0
}
