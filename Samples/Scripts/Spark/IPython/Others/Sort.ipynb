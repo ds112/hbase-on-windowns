{
 "cells": [
  {
   "cell_type": "code",
   "execution_count": 1,
   "metadata": {
    "collapsed": false
   },
   "outputs": [
    {
     "name": "stdout",
     "output_type": "stream",
     "text": [
      "19\n",
      "29\n",
      "30\n"
     ]
    }
   ],
   "source": [
    "from __future__ import print_function\n",
    "import sys\n",
    "from pyspark import SparkContext\n",
    "\n",
    "lines = sc.textFile(\"/Data/Spark/Resources/People.txt\")\n",
    "sortedCount = lines.map(lambda x: x.split(' ')[1]).map(lambda x: (int(x), 1)).sortByKey(lambda x: x)\n",
    "\n",
    "# This is just a demo on how to bring all the sorted data back to a single node.\n",
    "# In reality, we wouldn't want to collect all the data to the driver node.\n",
    "output = sortedCount.collect()\n",
    "\n",
    "for (num, unitcount) in output:\n",
    "\tprint(num)\n",
    "\n",
    "\n",
    "\n"
   ]
  },
  {
   "cell_type": "code",
   "execution_count": null,
   "metadata": {
    "collapsed": true
   },
   "outputs": [],
   "source": []
  }
 ],
 "metadata": {
  "kernelspec": {
   "display_name": "Python 2",
   "language": "python",
   "name": "python2"
  },
  "language_info": {
   "codemirror_mode": {
    "name": "ipython",
    "version": 2
   },
   "file_extension": ".py",
   "mimetype": "text/x-python",
   "name": "python",
   "nbconvert_exporter": "python",
   "pygments_lexer": "ipython2",
   "version": "2.7.10"
  }
 },
 "nbformat": 4,
 "nbformat_minor": 0
}
