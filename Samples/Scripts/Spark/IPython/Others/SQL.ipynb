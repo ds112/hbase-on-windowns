{
 "cells": [
  {
   "cell_type": "code",
   "execution_count": 1,
   "metadata": {
    "collapsed": false
   },
   "outputs": [
    {
     "name": "stdout",
     "output_type": "stream",
     "text": [
      "root\n",
      " |-- age: long (nullable = true)\n",
      " |-- name: string (nullable = true)\n",
      "\n",
      "root\n",
      " |-- person_name: string (nullable = false)\n",
      " |-- person_age: integer (nullable = false)\n",
      "\n",
      "root\n",
      " |-- age: long (nullable = true)\n",
      " |-- name: string (nullable = true)\n"
     ]
    },
    {
     "name": "stderr",
     "output_type": "stream",
     "text": [
      "C:\\Syncfusion\\BigDataSDK\\2.11.0.24\\SDK\\Spark\\python\\pyspark\\sql\\context.py:450: UserWarning: jsonFile is deprecated. Use read.json() instead.\n",
      "  warnings.warn(\"jsonFile is deprecated. Use read.json() instead.\")\n",
      "C:\\Syncfusion\\BigDataSDK\\2.11.0.24\\SDK\\Spark\\python\\pyspark\\sql\\dataframe.py:142: UserWarning: Use registerTempTable instead of registerAsTable.\n",
      "  warnings.warn(\"Use registerTempTable instead of registerAsTable.\")\n"
     ]
    },
    {
     "name": "stdout",
     "output_type": "stream",
     "text": [
      "\n",
      "Justin\n"
     ]
    }
   ],
   "source": [
    "from __future__ import print_function\n",
    "import os\n",
    "import sys\n",
    "from pyspark import SparkContext\n",
    "from pyspark.sql import SQLContext\n",
    "from pyspark.sql.types import Row, StructField, StructType, StringType, IntegerType\n",
    "\n",
    "if __name__ == \"__main__\":    \n",
    "\tsqlContext = SQLContext(sc)   \n",
    "\n",
    "# RDD is created from a list of rows\n",
    "some_rdd = sc.parallelize([Row(name=\"John\", age=19),Row(name=\"Smith\", age=23),Row(name=\"Sarah\", age=18)])    \n",
    "\n",
    "# Infer schema from the first row, create a DataFrame and print the schema    \n",
    "some_df = sqlContext.createDataFrame(some_rdd)    \n",
    "some_df.printSchema()    \n",
    "\n",
    "# Another RDD is created from a list of tuples    \n",
    "another_rdd = sc.parallelize([(\"John\", 19), (\"Smith\", 23), (\"Sarah\", 18)])    \n",
    "\n",
    "# Schema with two fields - person_name and person_age    \n",
    "schema = StructType([StructField(\"person_name\", StringType(), False),StructField(\"person_age\", IntegerType(), False)])    \n",
    "\n",
    "# Create a DataFrame by applying the schema to the RDD and print the schema    \n",
    "another_df = sqlContext.createDataFrame(another_rdd, schema)    \n",
    "another_df.printSchema()   \n",
    "\n",
    "# root    \n",
    "#  |-- age: integer (nullable = true)    \n",
    "#  |-- name: string (nullable = true)    \n",
    "\n",
    "# A JSON dataset is pointed to by path.    \n",
    "# The path can be either a single text file or a directory storing text files.    \n",
    "path = \"/Data/Spark/Resources/People.json\"  \n",
    "\n",
    "# Create a DataFrame from the file(s) pointed to by path    \n",
    "people = sqlContext.jsonFile(path)    \n",
    "\n",
    "# root    \n",
    "#  |-- person_name: string (nullable = false)    \n",
    "#  |-- person_age: integer (nullable = false)    \n",
    "\n",
    "# The inferred schema can be visualized using the printSchema() method. \n",
    "people.printSchema()    \n",
    "\n",
    "# root    \n",
    "#  |-- age: IntegerType    \n",
    "#  |-- name: StringType    \n",
    "\n",
    "# Register this DataFrame as a table.    \n",
    "people.registerAsTable(\"people\")    \n",
    "\n",
    "# SQL statements can be run by using the sql methods provided by sqlContext    \n",
    "teenagers = sqlContext.sql(\"SELECT name FROM people WHERE age >= 13 AND age <= 19\")    \n",
    "\n",
    "for each in teenagers.collect():\n",
    "\tprint(each[0])\n",
    "\n",
    "    \n",
    "\n"
   ]
  },
  {
   "cell_type": "code",
   "execution_count": null,
   "metadata": {
    "collapsed": true
   },
   "outputs": [],
   "source": []
  }
 ],
 "metadata": {
  "kernelspec": {
   "display_name": "Python 2",
   "language": "python",
   "name": "python2"
  },
  "language_info": {
   "codemirror_mode": {
    "name": "ipython",
    "version": 2
   },
   "file_extension": ".py",
   "mimetype": "text/x-python",
   "name": "python",
   "nbconvert_exporter": "python",
   "pygments_lexer": "ipython2",
   "version": "2.7.10"
  }
 },
 "nbformat": 4,
 "nbformat_minor": 0
}
